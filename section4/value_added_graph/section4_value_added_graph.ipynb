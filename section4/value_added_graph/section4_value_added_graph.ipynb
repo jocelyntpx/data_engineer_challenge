{
 "cells": [
  {
   "cell_type": "markdown",
   "metadata": {},
   "source": [
    "Value-added graph - graph can be filtered and grouped by Day, Month and Year"
   ]
  },
  {
   "cell_type": "code",
   "execution_count": null,
   "metadata": {},
   "outputs": [],
   "source": [
    "%pip install jupyter-dash\n",
    "%pip install dash"
   ]
  },
  {
   "cell_type": "code",
   "execution_count": null,
   "metadata": {},
   "outputs": [],
   "source": [
    "import requests\n",
    "import pandas as pd\n",
    "import plotly.express as px"
   ]
  },
  {
   "cell_type": "code",
   "execution_count": null,
   "metadata": {},
   "outputs": [],
   "source": [
    "# hardcoded singapore into the url to only see singapore's data\n",
    "url = \"https://api.covid19api.com/total/country/singapore/status/confirmed\"\n",
    "response = requests.get(url)"
   ]
  },
  {
   "cell_type": "code",
   "execution_count": null,
   "metadata": {},
   "outputs": [],
   "source": [
    "from datetime import date,timedelta,datetime\n",
    "def check_last_month_day(day):\n",
    "    next_day = day + timedelta(days=1)\n",
    "    return next_day.day == 1\n",
    "def check_last_year_day(day):\n",
    "    next_day = day + timedelta(days=1)\n",
    "    return next_day.day == 1 and next_day.month == 1"
   ]
  },
  {
   "cell_type": "code",
   "execution_count": null,
   "metadata": {},
   "outputs": [],
   "source": [
    "df = pd.json_normalize(response.json())\n",
    "df_cleaned = df[['Date', 'Cases']]\n",
    "df_cleaned['Date'] = pd.to_datetime(df_cleaned['Date'])\n",
    "df_cleaned['Date_flat'] = df_cleaned['Date'].dt.date"
   ]
  },
  {
   "cell_type": "code",
   "execution_count": null,
   "metadata": {},
   "outputs": [],
   "source": [
    "from jupyter_dash import JupyterDash\n",
    "from dash import html,dcc\n",
    "from dash.dependencies import Input, Output\n",
    "\n",
    "# Build App\n",
    "app = JupyterDash(__name__)\n",
    "app.layout = html.Div([\n",
    "    html.H1(\"Covid Dashboard\"),\n",
    "    html.Label([\n",
    "        \"View Covid Cases By\",\n",
    "        dcc.Dropdown(\n",
    "            id='daterange-dropdown', clearable=False,\n",
    "            value='Day', options=[\n",
    "                {'label':'Day','value':'Day'},\n",
    "                {'label':'Month','value':'Month'},\n",
    "                {'label':'Year','value':'Year'}\n",
    "            ])\n",
    "        ]),\n",
    "    dcc.DatePickerRange(\n",
    "        id='my-date-picker-range',\n",
    "        min_date_allowed=date(2020, 1,22),\n",
    "        max_date_allowed=date(2022, 10, 7),\n",
    "        initial_visible_month=date(2020, 1, 22),\n",
    "        end_date=date(2022, 10, 7)\n",
    "    ),\n",
    "    html.Div(id='output-container-date-picker-range'),\n",
    "    dcc.Graph(id='graph')\n",
    "])\n",
    "# Define callback to update graph\n",
    "@app.callback(\n",
    "    Output('graph', 'figure'),\n",
    "    Input(\"daterange-dropdown\", \"value\"),\n",
    "    Input('my-date-picker-range', 'start_date'),\n",
    "    Input('my-date-picker-range', 'end_date')\n",
    ")\n",
    "def update_figure(year_choice, start_date, end_date):\n",
    "    if start_date is None:\n",
    "        start_date = date(2020,1,22)\n",
    "    else:\n",
    "        start_date = date.fromisoformat(start_date)\n",
    "    if end_date is None:\n",
    "        end_date = date(2022,10,7)\n",
    "    else:\n",
    "        end_date = date.fromisoformat(end_date)\n",
    "    df1 = df_cleaned[(df_cleaned['Date_flat'] >= start_date) & (df_cleaned['Date_flat'] <= end_date)]\n",
    "    df_last_day_of_month = df1[df1['Date'].apply(check_last_month_day)][['Date','Cases']]\n",
    "    df_last_day_of_month['DateMonth'] = df1['Date'].dt.to_period('M').astype(str)\n",
    "    frames = [df1[df1['Date'].apply(check_last_year_day)][['Date','Cases']],df1[['Date','Cases']].tail(1)]\n",
    "    df_last_day_of_year = pd.concat(frames)\n",
    "    df_last_day_of_year['Year'] = df1['Date'].dt.to_period('Y').astype(str)\n",
    "    if year_choice == 'Day':\n",
    "        return px.line(df1, x='Date', y='Cases',title='Number of COVID-19 cases in Singapore over time')\n",
    "    elif year_choice == 'Month':\n",
    "        return px.line(df_last_day_of_month, x='DateMonth', y='Cases', title='Number of COVID-19 cases in Singapore over time by months')\n",
    "    else:\n",
    "        return px.line(df_last_day_of_year, x='Year', y='Cases', title='Number of COVID-19 cases in Singapore over time in Years')\n",
    "    \n",
    "# Run app and display result inline in the notebook\n",
    "app.run_server(mode='inline')\n"
   ]
  }
 ],
 "metadata": {
  "kernelspec": {
   "display_name": "Python 3.9.7 64-bit",
   "language": "python",
   "name": "python3"
  },
  "language_info": {
   "codemirror_mode": {
    "name": "ipython",
    "version": 3
   },
   "file_extension": ".py",
   "mimetype": "text/x-python",
   "name": "python",
   "nbconvert_exporter": "python",
   "pygments_lexer": "ipython3",
   "version": "3.9.7"
  },
  "orig_nbformat": 4,
  "vscode": {
   "interpreter": {
    "hash": "397704579725e15f5c7cb49fe5f0341eb7531c82d19f2c29d197e8b64ab5776b"
   }
  }
 },
 "nbformat": 4,
 "nbformat_minor": 2
}

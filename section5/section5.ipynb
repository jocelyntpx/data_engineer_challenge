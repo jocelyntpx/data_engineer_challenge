{
 "cells": [
  {
   "cell_type": "markdown",
   "metadata": {},
   "source": [
    "### Import Packages"
   ]
  },
  {
   "cell_type": "code",
   "execution_count": 1,
   "metadata": {},
   "outputs": [],
   "source": [
    "import pandas as pd\n",
    "from sklearn import preprocessing\n",
    "from sklearn.model_selection import train_test_split\n",
    "from sklearn import metrics\n",
    "from sklearn.svm import SVC\n",
    "from sklearn.ensemble import RandomForestClassifier\n",
    "from sklearn.neighbors import KNeighborsClassifier"
   ]
  },
  {
   "cell_type": "markdown",
   "metadata": {},
   "source": [
    "### Data Preprocessing"
   ]
  },
  {
   "cell_type": "code",
   "execution_count": 2,
   "metadata": {},
   "outputs": [
    {
     "data": {
      "text/html": [
       "<div>\n",
       "<style scoped>\n",
       "    .dataframe tbody tr th:only-of-type {\n",
       "        vertical-align: middle;\n",
       "    }\n",
       "\n",
       "    .dataframe tbody tr th {\n",
       "        vertical-align: top;\n",
       "    }\n",
       "\n",
       "    .dataframe thead th {\n",
       "        text-align: right;\n",
       "    }\n",
       "</style>\n",
       "<table border=\"1\" class=\"dataframe\">\n",
       "  <thead>\n",
       "    <tr style=\"text-align: right;\">\n",
       "      <th></th>\n",
       "      <th>buying</th>\n",
       "      <th>maint</th>\n",
       "      <th>doors</th>\n",
       "      <th>lugboot</th>\n",
       "      <th>safety</th>\n",
       "      <th>class</th>\n",
       "    </tr>\n",
       "  </thead>\n",
       "  <tbody>\n",
       "    <tr>\n",
       "      <th>0</th>\n",
       "      <td>vhigh</td>\n",
       "      <td>vhigh</td>\n",
       "      <td>2</td>\n",
       "      <td>small</td>\n",
       "      <td>low</td>\n",
       "      <td>unacc</td>\n",
       "    </tr>\n",
       "    <tr>\n",
       "      <th>1</th>\n",
       "      <td>vhigh</td>\n",
       "      <td>vhigh</td>\n",
       "      <td>2</td>\n",
       "      <td>small</td>\n",
       "      <td>med</td>\n",
       "      <td>unacc</td>\n",
       "    </tr>\n",
       "    <tr>\n",
       "      <th>2</th>\n",
       "      <td>vhigh</td>\n",
       "      <td>vhigh</td>\n",
       "      <td>2</td>\n",
       "      <td>small</td>\n",
       "      <td>high</td>\n",
       "      <td>unacc</td>\n",
       "    </tr>\n",
       "    <tr>\n",
       "      <th>3</th>\n",
       "      <td>vhigh</td>\n",
       "      <td>vhigh</td>\n",
       "      <td>2</td>\n",
       "      <td>med</td>\n",
       "      <td>low</td>\n",
       "      <td>unacc</td>\n",
       "    </tr>\n",
       "    <tr>\n",
       "      <th>4</th>\n",
       "      <td>vhigh</td>\n",
       "      <td>vhigh</td>\n",
       "      <td>2</td>\n",
       "      <td>med</td>\n",
       "      <td>med</td>\n",
       "      <td>unacc</td>\n",
       "    </tr>\n",
       "    <tr>\n",
       "      <th>...</th>\n",
       "      <td>...</td>\n",
       "      <td>...</td>\n",
       "      <td>...</td>\n",
       "      <td>...</td>\n",
       "      <td>...</td>\n",
       "      <td>...</td>\n",
       "    </tr>\n",
       "    <tr>\n",
       "      <th>1723</th>\n",
       "      <td>low</td>\n",
       "      <td>low</td>\n",
       "      <td>5more</td>\n",
       "      <td>med</td>\n",
       "      <td>med</td>\n",
       "      <td>good</td>\n",
       "    </tr>\n",
       "    <tr>\n",
       "      <th>1724</th>\n",
       "      <td>low</td>\n",
       "      <td>low</td>\n",
       "      <td>5more</td>\n",
       "      <td>med</td>\n",
       "      <td>high</td>\n",
       "      <td>vgood</td>\n",
       "    </tr>\n",
       "    <tr>\n",
       "      <th>1725</th>\n",
       "      <td>low</td>\n",
       "      <td>low</td>\n",
       "      <td>5more</td>\n",
       "      <td>big</td>\n",
       "      <td>low</td>\n",
       "      <td>unacc</td>\n",
       "    </tr>\n",
       "    <tr>\n",
       "      <th>1726</th>\n",
       "      <td>low</td>\n",
       "      <td>low</td>\n",
       "      <td>5more</td>\n",
       "      <td>big</td>\n",
       "      <td>med</td>\n",
       "      <td>good</td>\n",
       "    </tr>\n",
       "    <tr>\n",
       "      <th>1727</th>\n",
       "      <td>low</td>\n",
       "      <td>low</td>\n",
       "      <td>5more</td>\n",
       "      <td>big</td>\n",
       "      <td>high</td>\n",
       "      <td>vgood</td>\n",
       "    </tr>\n",
       "  </tbody>\n",
       "</table>\n",
       "<p>1728 rows × 6 columns</p>\n",
       "</div>"
      ],
      "text/plain": [
       "     buying  maint  doors lugboot safety  class\n",
       "0     vhigh  vhigh      2   small    low  unacc\n",
       "1     vhigh  vhigh      2   small    med  unacc\n",
       "2     vhigh  vhigh      2   small   high  unacc\n",
       "3     vhigh  vhigh      2     med    low  unacc\n",
       "4     vhigh  vhigh      2     med    med  unacc\n",
       "...     ...    ...    ...     ...    ...    ...\n",
       "1723    low    low  5more     med    med   good\n",
       "1724    low    low  5more     med   high  vgood\n",
       "1725    low    low  5more     big    low  unacc\n",
       "1726    low    low  5more     big    med   good\n",
       "1727    low    low  5more     big   high  vgood\n",
       "\n",
       "[1728 rows x 6 columns]"
      ]
     },
     "execution_count": 2,
     "metadata": {},
     "output_type": "execute_result"
    }
   ],
   "source": [
    "colnames=['buying', 'maint', 'doors', 'persons', 'lugboot', 'safety', 'class']\n",
    "df = pd.read_csv('car.data', names=colnames, header= None)\n",
    "df = df.drop('persons', axis=1) # dropped 'person' column as it is not used as input\n",
    "df"
   ]
  },
  {
   "cell_type": "code",
   "execution_count": 3,
   "metadata": {},
   "outputs": [
    {
     "data": {
      "text/plain": [
       "buying     4\n",
       "maint      4\n",
       "doors      4\n",
       "lugboot    3\n",
       "safety     3\n",
       "class      4\n",
       "dtype: int64"
      ]
     },
     "execution_count": 3,
     "metadata": {},
     "output_type": "execute_result"
    }
   ],
   "source": [
    "df.nunique() # no missing attributes, number of categories correspond with given information"
   ]
  },
  {
   "cell_type": "code",
   "execution_count": 4,
   "metadata": {},
   "outputs": [],
   "source": [
    "# ordinal encoding for maint, safety and class as there is ranking involved\n",
    "maint_ordinal = preprocessing.OrdinalEncoder(categories=[['vhigh', 'high', 'med', 'low']]) # low maintenance is better\n",
    "df['maint'] = maint_ordinal.fit_transform(df[['maint']])\n",
    "safety_ordinal = preprocessing.OrdinalEncoder(categories=[['low', 'med', 'high']]) # high safety is better\n",
    "df['safety'] = safety_ordinal.fit_transform(df[['safety']])\n",
    "class_ordinal = preprocessing.OrdinalEncoder(categories=[['unacc', 'acc', 'good', 'vgood']]) # vgood class value is better\n",
    "df['class'] = class_ordinal.fit_transform(df[['class']])"
   ]
  },
  {
   "cell_type": "code",
   "execution_count": 5,
   "metadata": {},
   "outputs": [
    {
     "name": "stdout",
     "output_type": "stream",
     "text": [
      "     buying  maint  safety  class  doors_2  doors_3  doors_4  doors_5more  \\\n",
      "0     vhigh    0.0     0.0    0.0        1        0        0            0   \n",
      "1     vhigh    0.0     1.0    0.0        1        0        0            0   \n",
      "2     vhigh    0.0     2.0    0.0        1        0        0            0   \n",
      "3     vhigh    0.0     0.0    0.0        1        0        0            0   \n",
      "4     vhigh    0.0     1.0    0.0        1        0        0            0   \n",
      "...     ...    ...     ...    ...      ...      ...      ...          ...   \n",
      "1723    low    3.0     1.0    2.0        0        0        0            1   \n",
      "1724    low    3.0     2.0    3.0        0        0        0            1   \n",
      "1725    low    3.0     0.0    0.0        0        0        0            1   \n",
      "1726    low    3.0     1.0    2.0        0        0        0            1   \n",
      "1727    low    3.0     2.0    3.0        0        0        0            1   \n",
      "\n",
      "      lugboot_big  lugboot_med  lugboot_small  \n",
      "0               0            0              1  \n",
      "1               0            0              1  \n",
      "2               0            0              1  \n",
      "3               0            1              0  \n",
      "4               0            1              0  \n",
      "...           ...          ...            ...  \n",
      "1723            0            1              0  \n",
      "1724            0            1              0  \n",
      "1725            1            0              0  \n",
      "1726            1            0              0  \n",
      "1727            1            0              0  \n",
      "\n",
      "[1728 rows x 11 columns]\n"
     ]
    }
   ],
   "source": [
    "# more/less doors and greater/smaller boot size does not mean that it is better (based on personal preference)\n",
    "# hence we do one-hot encoding on it instead\n",
    "processed_data = pd.get_dummies(df, columns = ['doors'])\n",
    "processed_data = pd.get_dummies(processed_data, columns = ['lugboot'])\n",
    "print(processed_data)"
   ]
  },
  {
   "cell_type": "code",
   "execution_count": 7,
   "metadata": {},
   "outputs": [],
   "source": [
    "# splitting of data into train, validation set\n",
    "# test set not needed as we are going to predict using the given input\n",
    "x_data = processed_data.drop(columns=['buying'])\n",
    "y_data = processed_data['buying']\n",
    "x_train, x_val, y_train, y_val = train_test_split(x_data, y_data, test_size=0.1, random_state=42)"
   ]
  },
  {
   "cell_type": "code",
   "execution_count": 8,
   "metadata": {},
   "outputs": [
    {
     "data": {
      "text/plain": [
       "vhigh    432\n",
       "high     432\n",
       "med      432\n",
       "low      432\n",
       "Name: buying, dtype: int64"
      ]
     },
     "execution_count": 8,
     "metadata": {},
     "output_type": "execute_result"
    }
   ],
   "source": [
    "df['buying'].value_counts(ascending=True)\n",
    "#since target variable is not imbalance, no further action is required"
   ]
  },
  {
   "cell_type": "markdown",
   "metadata": {},
   "source": [
    "### Testing different models before choosing the model with the highest accuracy"
   ]
  },
  {
   "cell_type": "code",
   "execution_count": 9,
   "metadata": {},
   "outputs": [
    {
     "name": "stdout",
     "output_type": "stream",
     "text": [
      "              precision    recall  f1-score   support\n",
      "\n",
      "        high       0.21      0.26      0.23        46\n",
      "         low       0.32      0.40      0.35        43\n",
      "         med       0.10      0.07      0.08        43\n",
      "       vhigh       0.12      0.10      0.11        41\n",
      "\n",
      "    accuracy                           0.21       173\n",
      "   macro avg       0.19      0.21      0.19       173\n",
      "weighted avg       0.19      0.21      0.20       173\n",
      "\n"
     ]
    }
   ],
   "source": [
    "# KNN classifier\n",
    "knn = KNeighborsClassifier().fit(x_train, y_train)\n",
    "knn_predictions = knn.predict(x_val) \n",
    "print(metrics.classification_report(y_val,knn_predictions))"
   ]
  },
  {
   "cell_type": "code",
   "execution_count": 10,
   "metadata": {},
   "outputs": [
    {
     "name": "stdout",
     "output_type": "stream",
     "text": [
      "              precision    recall  f1-score   support\n",
      "\n",
      "        high       0.12      0.07      0.08        46\n",
      "         low       0.45      0.30      0.36        43\n",
      "         med       0.21      0.14      0.17        43\n",
      "       vhigh       0.25      0.56      0.35        41\n",
      "\n",
      "    accuracy                           0.26       173\n",
      "   macro avg       0.26      0.27      0.24       173\n",
      "weighted avg       0.26      0.26      0.24       173\n",
      "\n"
     ]
    }
   ],
   "source": [
    "# SVC\n",
    "svm_model_linear = SVC().fit(x_train, y_train)\n",
    "svm_predictions = svm_model_linear.predict(x_val)\n",
    "print(metrics.classification_report(y_val,svm_predictions))"
   ]
  },
  {
   "cell_type": "code",
   "execution_count": 11,
   "metadata": {},
   "outputs": [
    {
     "name": "stdout",
     "output_type": "stream",
     "text": [
      "              precision    recall  f1-score   support\n",
      "\n",
      "        high       0.12      0.07      0.08        46\n",
      "         low       0.45      0.30      0.36        43\n",
      "         med       0.21      0.14      0.17        43\n",
      "       vhigh       0.25      0.56      0.35        41\n",
      "\n",
      "    accuracy                           0.26       173\n",
      "   macro avg       0.26      0.27      0.24       173\n",
      "weighted avg       0.26      0.26      0.24       173\n",
      "\n"
     ]
    }
   ],
   "source": [
    "# random forest\n",
    "rf = RandomForestClassifier(n_estimators = 1000, random_state = 42).fit(x_train, y_train)\n",
    "rf_predictions = svm_model_linear.predict(x_val)\n",
    "print(metrics.classification_report(y_val,rf_predictions))\n"
   ]
  },
  {
   "cell_type": "markdown",
   "metadata": {},
   "source": [
    "### Prediction"
   ]
  },
  {
   "cell_type": "markdown",
   "metadata": {},
   "source": [
    "SVC and random forest has the highest accuracy. We will go ahead and use SVC to predict the given input."
   ]
  },
  {
   "cell_type": "code",
   "execution_count": 13,
   "metadata": {},
   "outputs": [
    {
     "data": {
      "text/plain": [
       "array(['low'], dtype=object)"
      ]
     },
     "execution_count": 13,
     "metadata": {},
     "output_type": "execute_result"
    }
   ],
   "source": [
    "# maintenance = high --> 1\n",
    "# safety = high --> 2\n",
    "# class = good --> 2\n",
    "# doors = 4 --> doors_2=0, doors_3=0, doors_4=1, doors_5more=0\n",
    "# lugboot = big --> lugboot_big=1, lugboot_med=0, lugboot_small=0\n",
    "svm_model_linear.predict([[1, 2, 2, 0, 0, 1, 0, 1, 0, 0]]) \n",
    "#predicted buying price: low"
   ]
  },
  {
   "cell_type": "markdown",
   "metadata": {},
   "source": [
    "##### predicted buying price for given input: low"
   ]
  }
 ],
 "metadata": {
  "kernelspec": {
   "display_name": "Python 3.9.7 64-bit",
   "language": "python",
   "name": "python3"
  },
  "language_info": {
   "codemirror_mode": {
    "name": "ipython",
    "version": 3
   },
   "file_extension": ".py",
   "mimetype": "text/x-python",
   "name": "python",
   "nbconvert_exporter": "python",
   "pygments_lexer": "ipython3",
   "version": "3.9.7"
  },
  "orig_nbformat": 4,
  "vscode": {
   "interpreter": {
    "hash": "397704579725e15f5c7cb49fe5f0341eb7531c82d19f2c29d197e8b64ab5776b"
   }
  }
 },
 "nbformat": 4,
 "nbformat_minor": 2
}
